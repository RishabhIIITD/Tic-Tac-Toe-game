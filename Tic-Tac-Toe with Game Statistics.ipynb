{
 "cells": [
  {
   "cell_type": "markdown",
   "id": "88c0fcf6",
   "metadata": {},
   "source": [
    "# Tic - Tac - Toe game in Python"
   ]
  },
  {
   "cell_type": "markdown",
   "id": "7f36597b",
   "metadata": {},
   "source": [
    "# Display Board 1"
   ]
  },
  {
   "cell_type": "code",
   "execution_count": 2,
   "id": "f2dc26fb",
   "metadata": {},
   "outputs": [
    {
     "name": "stdout",
     "output_type": "stream",
     "text": [
      "◈ Tic-Tac-Toe ◈\n",
      " ∘―――――――――――――∘\n",
      "|    |     |    |\n",
      "|  7 |  8  |  9 |\n",
      "|    |     |    |\n",
      " ⊶――――――――――⊷ \n",
      "|    |     |    |\n",
      "|  4 |  5  |  6 |\n",
      "|    |     |    |\n",
      " ⊶――――――――――⊷ \n",
      "|    |     |    |\n",
      "|  1 |  2  |  3 |\n",
      "|    |     |    |\n",
      " ∘―――――――――――――∘\n",
      "✼Raman Classes✼\n"
     ]
    }
   ],
   "source": [
    "from IPython.display import clear_output\n",
    "#Display Board\n",
    "def display(n_lst):\n",
    "    clear_output()\n",
    "    print('◈ Tic-Tac-Toe ◈')\n",
    "    print(' ∘―――――――――――――∘')\n",
    "    print('|    |     |    |')\n",
    "    print('| ', n_lst[7], '| ', n_lst[8], ' | ', n_lst[9], '|')\n",
    "    print('|    |     |    |')\n",
    "    print(' ⊶――――――――――⊷ ')\n",
    "    print('|    |     |    |')\n",
    "    print('| ', n_lst[4], '| ', n_lst[5], ' | ', n_lst[6], '|')\n",
    "    print('|    |     |    |')\n",
    "    print(' ⊶――――――――――⊷ ')\n",
    "    print('|    |     |    |')\n",
    "    print('| ', n_lst[1], '| ', n_lst[2], ' | ', n_lst[3], '|')\n",
    "    print('|    |     |    |')\n",
    "    print(' ∘―――――――――――――∘')\n",
    "    #print('➫Raman Classes')\n",
    "    print('✼Raman Classes✼')\n",
    "\n",
    "#Check board for dummy input\n",
    "n_lst = ['Dummy', 1,2,3,4,5,6,7,8,9]\n",
    "display(n_lst)"
   ]
  },
  {
   "cell_type": "markdown",
   "id": "900270ca",
   "metadata": {},
   "source": [
    "# Display Board 2"
   ]
  },
  {
   "cell_type": "code",
   "execution_count": 3,
   "id": "b2eaad37",
   "metadata": {},
   "outputs": [
    {
     "name": "stdout",
     "output_type": "stream",
     "text": [
      "|  7 |  8  |  9 |\n",
      "|  4 |  5  |  6 |\n",
      "|  1 |  2  |  3 |\n"
     ]
    }
   ],
   "source": [
    "from IPython.display import clear_output\n",
    "# Display Board\n",
    "def display(n_lst):\n",
    "    clear_output()\n",
    "    print('| ', n_lst[7], '| ', n_lst[8], ' | ', n_lst[9], '|')\n",
    "    print('| ', n_lst[4], '| ', n_lst[5], ' | ', n_lst[6], '|')\n",
    "    print('| ', n_lst[1], '| ', n_lst[2], ' | ', n_lst[3], '|')\n",
    "\n",
    "n_lst = ['Dummy', 1,2,3,4,5,6,7,8,9]\n",
    "display(n_lst)"
   ]
  },
  {
   "cell_type": "markdown",
   "id": "ac0c640e",
   "metadata": {},
   "source": [
    "### We will proceed with Display Board 2 for simplicity."
   ]
  },
  {
   "cell_type": "code",
   "execution_count": 4,
   "id": "f1be9bb6",
   "metadata": {},
   "outputs": [
    {
     "name": "stdout",
     "output_type": "stream",
     "text": [
      "|    |     |    |\n",
      "|    |     |    |\n",
      "|    |     |    |\n"
     ]
    }
   ],
   "source": [
    "n_lst = [' '] * 10\n",
    "display(n_lst)"
   ]
  },
  {
   "cell_type": "code",
   "execution_count": 8,
   "id": "735c7107",
   "metadata": {},
   "outputs": [
    {
     "name": "stdout",
     "output_type": "stream",
     "text": [
      "|  X |  X  |  X |\n",
      "|  X |  X  |  X |\n",
      "|  X |  X  |  X |\n"
     ]
    }
   ],
   "source": [
    "n_lst = [' '] * 10\n",
    "for i in range(9):\n",
    "    temp = int(input(\"Enter the input: \"))\n",
    "    n_lst[temp] = 'X'\n",
    "    display(n_lst)"
   ]
  },
  {
   "cell_type": "code",
   "execution_count": 9,
   "id": "c9f83ed1",
   "metadata": {},
   "outputs": [
    {
     "name": "stdout",
     "output_type": "stream",
     "text": [
      "|  X |  O  |  X |\n",
      "|  O |  X  |  O |\n",
      "|  X |  O  |  X |\n"
     ]
    }
   ],
   "source": [
    "n_lst = [' '] * 10\n",
    "for i in range(9):\n",
    "    temp = int(input(\"Enter the input: \"))\n",
    "    if(i%2==0):\n",
    "        n_lst[temp] = 'X'\n",
    "    else:\n",
    "        n_lst[temp] = 'O'\n",
    "    display(n_lst)"
   ]
  },
  {
   "cell_type": "code",
   "execution_count": 10,
   "id": "b7655b2b",
   "metadata": {},
   "outputs": [],
   "source": [
    "#Check winning condition \n",
    "#Winning cases - 1,2,3 - 4,5,6 - 7,8,9 - 1,4,7 - 2,5,8 - 3,6,9 - 1,5,9 - 3,5,7\n",
    "#Check all the eight cases\n",
    "def check_winning_condition(mark, n_lst):\n",
    "    if(((n_lst[1] == mark) and (n_lst[2] == mark) and (n_lst[3] == mark)) or\n",
    "    ((n_lst[4] == mark) and (n_lst[5] == mark) and (n_lst[6] == mark)) or \n",
    "    ((n_lst[7] == mark) and (n_lst[8] == mark) and (n_lst[9] == mark)) or \n",
    "    ((n_lst[1] == mark) and (n_lst[4] == mark) and (n_lst[7] == mark)) or\n",
    "    ((n_lst[2] == mark) and (n_lst[5] == mark) and (n_lst[8] == mark)) or\n",
    "    ((n_lst[3] == mark) and (n_lst[6] == mark) and (n_lst[9] == mark)) or\n",
    "    ((n_lst[1] == mark) and (n_lst[5] == mark) and (n_lst[9] == mark)) or\n",
    "    ((n_lst[3] == mark) and (n_lst[5] == mark) and (n_lst[7] == mark))):\n",
    "        return 1\n",
    "    else:\n",
    "        return 0"
   ]
  },
  {
   "cell_type": "code",
   "execution_count": 12,
   "id": "ad1eac36",
   "metadata": {},
   "outputs": [
    {
     "name": "stdout",
     "output_type": "stream",
     "text": [
      "|  X |     |    |\n",
      "|  O |  X  |  O |\n",
      "|  X |  O  |  X |\n",
      "Player1 won the match!\n"
     ]
    }
   ],
   "source": [
    "n_lst = [' '] * 10\n",
    "for i in range(9):\n",
    "    temp = int(input(\"Enter the input: \"))\n",
    "    if(i%2==0):\n",
    "        n_lst[temp] = 'X'\n",
    "        mark = 'X'\n",
    "        temp1 = check_winning_condition('X', n_lst)\n",
    "    else:\n",
    "        n_lst[temp] = 'O'\n",
    "        mark = 'O'\n",
    "        temp1 = check_winning_condition('O', n_lst)\n",
    "    display(n_lst)\n",
    "    if(temp1 == 1):\n",
    "        break\n",
    "if(temp1 == 1):\n",
    "    if(i%2 == 0):\n",
    "        print(\"Player1 won the match!\")\n",
    "    else:\n",
    "        print(\"Player2 won the match!\")\n",
    "else:\n",
    "    print(\"Match tie!\")"
   ]
  },
  {
   "cell_type": "markdown",
   "id": "6bdb1ed0",
   "metadata": {},
   "source": [
    "# Final code for Tic - Tac - Toe game\n",
    "- Restart the Kernel and run from this cell onwards."
   ]
  },
  {
   "cell_type": "markdown",
   "id": "00a46d67",
   "metadata": {},
   "source": [
    "## Display Board"
   ]
  },
  {
   "cell_type": "code",
   "execution_count": 1,
   "id": "de447d54",
   "metadata": {},
   "outputs": [
    {
     "name": "stdout",
     "output_type": "stream",
     "text": [
      "|  7 |  8  |  9 |\n",
      "|  4 |  5  |  6 |\n",
      "|  1 |  2  |  3 |\n"
     ]
    }
   ],
   "source": [
    "from IPython.display import clear_output\n",
    "# Display Board\n",
    "def display(n_lst):\n",
    "    clear_output()\n",
    "    print('| ', n_lst[7], '| ', n_lst[8], ' | ', n_lst[9], '|')\n",
    "    print('| ', n_lst[4], '| ', n_lst[5], ' | ', n_lst[6], '|')\n",
    "    print('| ', n_lst[1], '| ', n_lst[2], ' | ', n_lst[3], '|')\n",
    "\n",
    "n_lst = ['Dummy', 1,2,3,4,5,6,7,8,9]\n",
    "display(n_lst)"
   ]
  },
  {
   "cell_type": "markdown",
   "id": "b52c4758",
   "metadata": {},
   "source": [
    "## Check Winning Conditions"
   ]
  },
  {
   "cell_type": "code",
   "execution_count": 3,
   "id": "a0526b03",
   "metadata": {},
   "outputs": [],
   "source": [
    "#Check winning condition \n",
    "#Winning cases - 1,2,3 - 4,5,6 - 7,8,9 - 1,4,7 - 2,5,8 - 3,6,9 - 1,5,9 - 3,5,7\n",
    "#Check all the eight cases\n",
    "def check_winning_condition(mark, n_lst):\n",
    "    if(((n_lst[1] == mark) and (n_lst[2] == mark) and (n_lst[3] == mark)) or \\\n",
    "    ((n_lst[4] == mark) and (n_lst[5] == mark) and (n_lst[6] == mark)) or \\\n",
    "    ((n_lst[7] == mark) and (n_lst[8] == mark) and (n_lst[9] == mark)) or \\\n",
    "    ((n_lst[1] == mark) and (n_lst[4] == mark) and (n_lst[7] == mark)) or \\\n",
    "    ((n_lst[2] == mark) and (n_lst[5] == mark) and (n_lst[8] == mark)) or \\\n",
    "    ((n_lst[3] == mark) and (n_lst[6] == mark) and (n_lst[9] == mark)) or \\\n",
    "    ((n_lst[1] == mark) and (n_lst[5] == mark) and (n_lst[9] == mark)) or \\\n",
    "    ((n_lst[3] == mark) and (n_lst[5] == mark) and (n_lst[7] == mark))):\n",
    "        return 1\n",
    "    else:\n",
    "        return 0"
   ]
  },
  {
   "cell_type": "markdown",
   "id": "9313bdf2",
   "metadata": {},
   "source": [
    "## Add replay option along with game statistics"
   ]
  },
  {
   "cell_type": "code",
   "execution_count": 4,
   "id": "e3e95250",
   "metadata": {},
   "outputs": [
    {
     "name": "stdout",
     "output_type": "stream",
     "text": [
      "Total matches played = 4\n",
      "Number of matches won by Rishabh = 2\n",
      "Number of matches won by Vinay = 1\n",
      "Tie count = 1\n"
     ]
    }
   ],
   "source": [
    "#Added names to players\n",
    "#Added the game play statistics\n",
    "#Total number of matches played, winning count of player1, winning count of player2, number of match ties\n",
    "#Homework - Add game statistics in CSV file. \n",
    "#Homework - Add option to display game stats using plots made by using matplotlib, seaborn, or plotly.\n",
    "player1_name = input('Enter Player1 name: ')\n",
    "player2_name = input('Enter Player2 name: ')\n",
    "winning_count_p1 = 0\n",
    "winning_count_p2 = 0\n",
    "tie_count = 0\n",
    "while(True):\n",
    "    n_lst = [' '] * 10\n",
    "    display(n_lst)\n",
    "    player1_mark = input(str(player1_name) + \", please enter your choice! - 'X' or 'O': \")\n",
    "    if(player1_mark.upper() == 'X'):\n",
    "        player1_mark = 'X'\n",
    "        player2_mark = 'O'\n",
    "    else:\n",
    "        player1_mark = 'O'\n",
    "        player2_mark = 'X'\n",
    "    for i in range(9):\n",
    "        if(i%2==0):\n",
    "            #temp = enter_valid_input(n_lst)\n",
    "            temp = int(input(str(player1_name) + ', enter the input: '))\n",
    "            n_lst[temp] = player1_mark\n",
    "            mark = player1_mark\n",
    "            temp1 = check_winning_condition(mark, n_lst)\n",
    "        else:\n",
    "            #temp = enter_valid_input(n_lst)\n",
    "            temp = int(input(str(player2_name) + ', enter the input: '))\n",
    "            n_lst[temp] = player2_mark\n",
    "            mark = player2_mark\n",
    "            temp1 = check_winning_condition(mark, n_lst)\n",
    "        display(n_lst)\n",
    "        if(temp1 == 1):\n",
    "            break\n",
    "    if(temp1 == 1):\n",
    "        if(i%2 == 0):\n",
    "            print('Hurrey! ' + str(player1_name) + ' won!')\n",
    "            winning_count_p1 = winning_count_p1 + 1\n",
    "        else:\n",
    "            print('Hurrey! ' + str(player2_name) + ' won!')\n",
    "            winning_count_p2 = winning_count_p2 + 1\n",
    "    else:\n",
    "        print('There is a tie.')\n",
    "        tie_count = tie_count + 1\n",
    "    replay_status = input('Do you want to play again? - Enter Yes or No: ')\n",
    "    if(replay_status == 'Yes'):\n",
    "        clear_output()\n",
    "    else:\n",
    "        clear_output()\n",
    "        print('Total matches played = ' + str(int(winning_count_p1 + winning_count_p2 + tie_count)))\n",
    "        print('Number of matches won by ' + str(player1_name) + ' = ' +str(winning_count_p1))\n",
    "        print('Number of matches won by ' + str(player2_name) + ' = ' +str(winning_count_p2))\n",
    "        print('Tie count = ' + str(tie_count))\n",
    "        break"
   ]
  },
  {
   "cell_type": "markdown",
   "id": "71fc641d",
   "metadata": {},
   "source": [
    "# Rishabh Bafna | M.Tech. CSE, IIIT-Delhi"
   ]
  },
  {
   "cell_type": "code",
   "execution_count": null,
   "id": "8fd8412f",
   "metadata": {},
   "outputs": [],
   "source": []
  }
 ],
 "metadata": {
  "kernelspec": {
   "display_name": "Python 3 (ipykernel)",
   "language": "python",
   "name": "python3"
  },
  "language_info": {
   "codemirror_mode": {
    "name": "ipython",
    "version": 3
   },
   "file_extension": ".py",
   "mimetype": "text/x-python",
   "name": "python",
   "nbconvert_exporter": "python",
   "pygments_lexer": "ipython3",
   "version": "3.9.12"
  }
 },
 "nbformat": 4,
 "nbformat_minor": 5
}
